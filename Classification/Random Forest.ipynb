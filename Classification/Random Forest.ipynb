{
  "nbformat": 4,
  "nbformat_minor": 0,
  "metadata": {
    "colab": {
      "provenance": []
    },
    "kernelspec": {
      "name": "python3",
      "display_name": "Python 3"
    },
    "language_info": {
      "name": "python"
    }
  },
  "cells": [
    {
      "cell_type": "code",
      "source": [
        "# prompt: 'Random Forest': RandomForestClassifier() and also find accuracy ib hotel_data.csv\n",
        "\n",
        "from sklearn.model_selection import train_test_split\n",
        "from sklearn.ensemble import RandomForestClassifier\n",
        "from sklearn.metrics import accuracy_score\n",
        "import pandas as pd # Make sure pandas is imported\n",
        "\n",
        "# Assuming df is your DataFrame loaded from 'hotel_data.csv'\n",
        "# ... (your code to load and clean the data) ...\n",
        "\n",
        "\n",
        "# One-hot encode or label encode ALL categorical variables, including those with 'Yes'/'No' values\n",
        "for column in X.select_dtypes(include=['object']).columns:\n",
        "    # If the column contains 'Yes'/'No' or similar binary values, use label encoding\n",
        "    if X[column].isin(['Yes', 'No']).all():\n",
        "        X[column] = X[column].map({'Yes': 1, 'No': 0})\n",
        "    else:\n",
        "        # For other categorical variables, use one-hot encoding\n",
        "        X = pd.get_dummies(X, columns=[column], drop_first=True)\n",
        "\n",
        "# Split data into training and testing sets AFTER encoding\n",
        "X_train, X_test, y_train, y_test = train_test_split(X, y, test_size=0.2, random_state=42)\n",
        "\n",
        "# Initialize and train a Random Forest classifier\n",
        "rf_classifier = RandomForestClassifier()\n",
        "rf_classifier.fit(X_train, y_train)\n",
        "\n",
        "# Make predictions on the test set\n",
        "y_pred = rf_classifier.predict(X_test)\n",
        "\n",
        "# Evaluate the accuracy of the model\n",
        "accuracy = accuracy_score(y_test, y_pred)\n",
        "print(f\"Accuracy of Random Forest Classifier: {accuracy}\")\n"
      ],
      "metadata": {
        "colab": {
          "base_uri": "https://localhost:8080/"
        },
        "id": "21AULLh8iNX2",
        "outputId": "bb6f2488-ad62-4253-ecca-cb88e50409f8"
      },
      "execution_count": 3,
      "outputs": [
        {
          "output_type": "stream",
          "name": "stdout",
          "text": [
            "Accuracy of Random Forest Classifier: 0.335\n"
          ]
        }
      ]
    }
  ]
}