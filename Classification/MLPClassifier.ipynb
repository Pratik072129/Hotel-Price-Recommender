{
  "nbformat": 4,
  "nbformat_minor": 0,
  "metadata": {
    "colab": {
      "provenance": []
    },
    "kernelspec": {
      "name": "python3",
      "display_name": "Python 3"
    },
    "language_info": {
      "name": "python"
    }
  },
  "cells": [
    {
      "cell_type": "code",
      "source": [
        "# prompt: Neural Network': MLPClassifier find accuracy in hotel_data.csv\n",
        "\n",
        "from sklearn.neural_network import MLPClassifier\n",
        "\n",
        "# Initialize and train an MLP classifier\n",
        "mlp_classifier = MLPClassifier(random_state=42) # You can adjust hyperparameters as needed\n",
        "mlp_classifier.fit(X_train, y_train)\n",
        "\n",
        "# Make predictions on the test set\n",
        "y_pred_mlp = mlp_classifier.predict(X_test)\n",
        "\n",
        "# Evaluate the accuracy of the model\n",
        "accuracy_mlp = accuracy_score(y_test, y_pred_mlp)\n",
        "print(f\"Accuracy of MLP Classifier: {accuracy_mlp}\")"
      ],
      "metadata": {
        "colab": {
          "base_uri": "https://localhost:8080/"
        },
        "id": "F1-H5oU2ke4h",
        "outputId": "ad1d9bcc-9897-41b2-90ad-8924243f5c1c"
      },
      "execution_count": 10,
      "outputs": [
        {
          "output_type": "stream",
          "name": "stdout",
          "text": [
            "Accuracy of MLP Classifier: 0.335\n"
          ]
        }
      ]
    },
    {
      "cell_type": "code",
      "source": [],
      "metadata": {
        "id": "ZoBNPormmWQk"
      },
      "execution_count": null,
      "outputs": []
    }
  ]
}